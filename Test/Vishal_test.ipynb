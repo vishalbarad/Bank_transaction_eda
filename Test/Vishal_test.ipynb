{
 "cells": [
  {
   "cell_type": "markdown",
   "id": "a20fe7dc",
   "metadata": {},
   "source": [
    "#### Insatll libs"
   ]
  },
  {
   "cell_type": "code",
   "execution_count": null,
   "id": "98d60264",
   "metadata": {},
   "outputs": [],
   "source": [
    "# pip install fuzzywuzzy\n",
    "# pip install python-Levenshtein"
   ]
  },
  {
   "cell_type": "markdown",
   "id": "aa8f5270",
   "metadata": {},
   "source": [
    "#### Import necessary libs"
   ]
  },
  {
   "cell_type": "code",
   "execution_count": 72,
   "id": "f9f0f653",
   "metadata": {},
   "outputs": [],
   "source": [
    "import pandas as pd\n",
    "import numpy as np\n",
    "import matplotlib.pyplot as plt\n",
    "from fuzzywuzzy import fuzz\n",
    "from fuzzywuzzy import process\n",
    "import warnings\n",
    "warnings.filterwarnings('ignore')"
   ]
  },
  {
   "cell_type": "markdown",
   "id": "80e14751",
   "metadata": {},
   "source": [
    "#### Read csv data"
   ]
  },
  {
   "cell_type": "code",
   "execution_count": 73,
   "id": "d664ee7f",
   "metadata": {},
   "outputs": [],
   "source": [
    "df = pd.read_csv(\"exploratory_data_analysis_dataset_1.csv\")"
   ]
  },
  {
   "cell_type": "code",
   "execution_count": 74,
   "id": "87687f37",
   "metadata": {},
   "outputs": [
    {
     "data": {
      "text/html": [
       "<div>\n",
       "<style scoped>\n",
       "    .dataframe tbody tr th:only-of-type {\n",
       "        vertical-align: middle;\n",
       "    }\n",
       "\n",
       "    .dataframe tbody tr th {\n",
       "        vertical-align: top;\n",
       "    }\n",
       "\n",
       "    .dataframe thead th {\n",
       "        text-align: right;\n",
       "    }\n",
       "</style>\n",
       "<table border=\"1\" class=\"dataframe\">\n",
       "  <thead>\n",
       "    <tr style=\"text-align: right;\">\n",
       "      <th></th>\n",
       "      <th>txnId</th>\n",
       "      <th>transactionTimestamp</th>\n",
       "      <th>valueDate</th>\n",
       "      <th>narration</th>\n",
       "      <th>type</th>\n",
       "      <th>mode</th>\n",
       "      <th>currentBalance</th>\n",
       "      <th>amount</th>\n",
       "      <th>reference</th>\n",
       "    </tr>\n",
       "  </thead>\n",
       "  <tbody>\n",
       "    <tr>\n",
       "      <th>0</th>\n",
       "      <td>M12460134</td>\n",
       "      <td>2021-01-04T00:00:00+05:30</td>\n",
       "      <td>2021-01-04</td>\n",
       "      <td>UPI/100304559280/Oid100002510080/paytm-irctcap...</td>\n",
       "      <td>DEBIT</td>\n",
       "      <td>UPI</td>\n",
       "      <td>440609.832</td>\n",
       "      <td>262.080</td>\n",
       "      <td>RF11015412</td>\n",
       "    </tr>\n",
       "    <tr>\n",
       "      <th>1</th>\n",
       "      <td>M12470135</td>\n",
       "      <td>2021-01-04T00:00:00+05:30</td>\n",
       "      <td>2021-01-04</td>\n",
       "      <td>UPI/100437751856/collect/paytm-irctcapp@/Paytm...</td>\n",
       "      <td>CREDIT</td>\n",
       "      <td>UPI</td>\n",
       "      <td>441417.912</td>\n",
       "      <td>808.080</td>\n",
       "      <td>RF12015413</td>\n",
       "    </tr>\n",
       "    <tr>\n",
       "      <th>2</th>\n",
       "      <td>M12480136</td>\n",
       "      <td>2021-01-07T00:00:00+05:30</td>\n",
       "      <td>2021-01-07</td>\n",
       "      <td>UPI/100712222548/Skinethics/gpay-1116488882/Ax...</td>\n",
       "      <td>DEBIT</td>\n",
       "      <td>UPI</td>\n",
       "      <td>441117.912</td>\n",
       "      <td>300.000</td>\n",
       "      <td>RF13015414</td>\n",
       "    </tr>\n",
       "    <tr>\n",
       "      <th>3</th>\n",
       "      <td>M12490137</td>\n",
       "      <td>2021-01-08T00:00:00+05:30</td>\n",
       "      <td>2021-01-08</td>\n",
       "      <td>UPI/100806142513/Oid100002517246/paytm-irctcap...</td>\n",
       "      <td>DEBIT</td>\n",
       "      <td>UPI</td>\n",
       "      <td>440798.538</td>\n",
       "      <td>319.374</td>\n",
       "      <td>RF14015415</td>\n",
       "    </tr>\n",
       "    <tr>\n",
       "      <th>4</th>\n",
       "      <td>M12500138</td>\n",
       "      <td>2021-01-08T00:00:00+05:30</td>\n",
       "      <td>2021-01-08</td>\n",
       "      <td>UPI/100816392006/Pay To RAY OF J/bharatpe.9050...</td>\n",
       "      <td>DEBIT</td>\n",
       "      <td>UPI</td>\n",
       "      <td>439598.538</td>\n",
       "      <td>1200.000</td>\n",
       "      <td>RF15015416</td>\n",
       "    </tr>\n",
       "  </tbody>\n",
       "</table>\n",
       "</div>"
      ],
      "text/plain": [
       "       txnId       transactionTimestamp   valueDate  \\\n",
       "0  M12460134  2021-01-04T00:00:00+05:30  2021-01-04   \n",
       "1  M12470135  2021-01-04T00:00:00+05:30  2021-01-04   \n",
       "2  M12480136  2021-01-07T00:00:00+05:30  2021-01-07   \n",
       "3  M12490137  2021-01-08T00:00:00+05:30  2021-01-08   \n",
       "4  M12500138  2021-01-08T00:00:00+05:30  2021-01-08   \n",
       "\n",
       "                                           narration    type mode  \\\n",
       "0  UPI/100304559280/Oid100002510080/paytm-irctcap...   DEBIT  UPI   \n",
       "1  UPI/100437751856/collect/paytm-irctcapp@/Paytm...  CREDIT  UPI   \n",
       "2  UPI/100712222548/Skinethics/gpay-1116488882/Ax...   DEBIT  UPI   \n",
       "3  UPI/100806142513/Oid100002517246/paytm-irctcap...   DEBIT  UPI   \n",
       "4  UPI/100816392006/Pay To RAY OF J/bharatpe.9050...   DEBIT  UPI   \n",
       "\n",
       "   currentBalance    amount   reference  \n",
       "0      440609.832   262.080  RF11015412  \n",
       "1      441417.912   808.080  RF12015413  \n",
       "2      441117.912   300.000  RF13015414  \n",
       "3      440798.538   319.374  RF14015415  \n",
       "4      439598.538  1200.000  RF15015416  "
      ]
     },
     "execution_count": 74,
     "metadata": {},
     "output_type": "execute_result"
    }
   ],
   "source": [
    "df.head()"
   ]
  },
  {
   "cell_type": "markdown",
   "id": "822ead48",
   "metadata": {},
   "source": [
    "### 1) number of rows in dataset"
   ]
  },
  {
   "cell_type": "code",
   "execution_count": 75,
   "id": "cf7670ee",
   "metadata": {},
   "outputs": [
    {
     "name": "stdout",
     "output_type": "stream",
     "text": [
      "Bank transaction dataset consists of 465 rows.\n"
     ]
    }
   ],
   "source": [
    "# number of rows in dataset\n",
    "msg = f'''Bank transaction dataset consists of {len(df)} rows.'''\n",
    "print(msg)"
   ]
  },
  {
   "cell_type": "markdown",
   "id": "dd8734c9",
   "metadata": {},
   "source": [
    "### 2) Find missing value if there"
   ]
  },
  {
   "cell_type": "code",
   "execution_count": 76,
   "id": "d193455e",
   "metadata": {},
   "outputs": [
    {
     "data": {
      "text/plain": [
       "txnId                   0\n",
       "transactionTimestamp    0\n",
       "valueDate               0\n",
       "narration               0\n",
       "type                    0\n",
       "mode                    0\n",
       "currentBalance          0\n",
       "amount                  0\n",
       "reference               0\n",
       "dtype: int64"
      ]
     },
     "execution_count": 76,
     "metadata": {},
     "output_type": "execute_result"
    }
   ],
   "source": [
    "# Find missing value\n",
    "df.isnull().sum()"
   ]
  },
  {
   "cell_type": "markdown",
   "id": "956c859b",
   "metadata": {},
   "source": [
    "#### There is no missing value present in data"
   ]
  },
  {
   "cell_type": "markdown",
   "id": "b37d5802",
   "metadata": {},
   "source": [
    "### 3) Here we are calculating outlier to identify fraudulent transection\n",
    "#### Assumption: \n",
    "-  If amount is debited more than 75% of the total balance then we can say it as a fraudulent transection"
   ]
  },
  {
   "cell_type": "code",
   "execution_count": 77,
   "id": "01681a01",
   "metadata": {},
   "outputs": [],
   "source": [
    "# We'll find outlier using IQR\n",
    "df_bedit = df[df['type']==\"DEBIT\"]\n",
    "\n",
    "# Find 25% and 75% of data\n",
    "Q1 = np.percentile(df_bedit['amount'], 25)\n",
    "Q3 = np.percentile(df_bedit['amount'], 75)\n",
    "\n",
    "# Calculate IQR\n",
    "IQR = Q3 - Q1"
   ]
  },
  {
   "cell_type": "code",
   "execution_count": 78,
   "id": "f149c891",
   "metadata": {},
   "outputs": [],
   "source": [
    "# Find upper and lower bound\n",
    "ul = Q3+1.5*IQR\n",
    "ll = Q1-1.5*IQR"
   ]
  },
  {
   "cell_type": "code",
   "execution_count": 79,
   "id": "5431ef57",
   "metadata": {},
   "outputs": [
    {
     "data": {
      "text/html": [
       "<div>\n",
       "<style scoped>\n",
       "    .dataframe tbody tr th:only-of-type {\n",
       "        vertical-align: middle;\n",
       "    }\n",
       "\n",
       "    .dataframe tbody tr th {\n",
       "        vertical-align: top;\n",
       "    }\n",
       "\n",
       "    .dataframe thead th {\n",
       "        text-align: right;\n",
       "    }\n",
       "</style>\n",
       "<table border=\"1\" class=\"dataframe\">\n",
       "  <thead>\n",
       "    <tr style=\"text-align: right;\">\n",
       "      <th></th>\n",
       "      <th>txnId</th>\n",
       "      <th>transactionTimestamp</th>\n",
       "      <th>valueDate</th>\n",
       "      <th>narration</th>\n",
       "      <th>type</th>\n",
       "      <th>mode</th>\n",
       "      <th>currentBalance</th>\n",
       "      <th>amount</th>\n",
       "      <th>reference</th>\n",
       "    </tr>\n",
       "  </thead>\n",
       "  <tbody>\n",
       "    <tr>\n",
       "      <th>10</th>\n",
       "      <td>M12560144</td>\n",
       "      <td>2021-01-13T00:00:00+05:30</td>\n",
       "      <td>2021-01-13</td>\n",
       "      <td>MMT/IMPS/101315098813/Farm loan repay/ND A/S</td>\n",
       "      <td>DEBIT</td>\n",
       "      <td>OTHERS</td>\n",
       "      <td>600087.738</td>\n",
       "      <td>108000.0</td>\n",
       "      <td>RF21015422</td>\n",
       "    </tr>\n",
       "    <tr>\n",
       "      <th>55</th>\n",
       "      <td>M13010189</td>\n",
       "      <td>2021-03-01T00:00:00+05:30</td>\n",
       "      <td>2021-03-01</td>\n",
       "      <td>CLG/LIFE INSURANCE CORPORATIO                 ...</td>\n",
       "      <td>DEBIT</td>\n",
       "      <td>OTHERS</td>\n",
       "      <td>816562.032</td>\n",
       "      <td>44336.4</td>\n",
       "      <td>RF66015467</td>\n",
       "    </tr>\n",
       "    <tr>\n",
       "      <th>58</th>\n",
       "      <td>M13040192</td>\n",
       "      <td>2021-03-02T00:00:00+05:30</td>\n",
       "      <td>2021-03-02</td>\n",
       "      <td>BIL/ONL/000057164189/CRED CLUB/DP-6RaG1PayN5xl...</td>\n",
       "      <td>DEBIT</td>\n",
       "      <td>OTHERS</td>\n",
       "      <td>779548.032</td>\n",
       "      <td>35787.6</td>\n",
       "      <td>RF69015470</td>\n",
       "    </tr>\n",
       "    <tr>\n",
       "      <th>62</th>\n",
       "      <td>M13080196</td>\n",
       "      <td>2021-03-08T00:00:00+05:30</td>\n",
       "      <td>2021-03-08</td>\n",
       "      <td>BIL/INFT/000062173555/Flat/                   ...</td>\n",
       "      <td>DEBIT</td>\n",
       "      <td>OTHERS</td>\n",
       "      <td>537366.432</td>\n",
       "      <td>240000.0</td>\n",
       "      <td>RF73015474</td>\n",
       "    </tr>\n",
       "    <tr>\n",
       "      <th>72</th>\n",
       "      <td>M13180206</td>\n",
       "      <td>2021-03-09T00:00:00+05:30</td>\n",
       "      <td>2021-03-09</td>\n",
       "      <td>BIL/NEFT/000064221973/Home Down Payme/RAJENDRA...</td>\n",
       "      <td>DEBIT</td>\n",
       "      <td>OTHERS</td>\n",
       "      <td>422213.472</td>\n",
       "      <td>120000.0</td>\n",
       "      <td>RF83015484</td>\n",
       "    </tr>\n",
       "  </tbody>\n",
       "</table>\n",
       "</div>"
      ],
      "text/plain": [
       "        txnId       transactionTimestamp   valueDate  \\\n",
       "10  M12560144  2021-01-13T00:00:00+05:30  2021-01-13   \n",
       "55  M13010189  2021-03-01T00:00:00+05:30  2021-03-01   \n",
       "58  M13040192  2021-03-02T00:00:00+05:30  2021-03-02   \n",
       "62  M13080196  2021-03-08T00:00:00+05:30  2021-03-08   \n",
       "72  M13180206  2021-03-09T00:00:00+05:30  2021-03-09   \n",
       "\n",
       "                                            narration   type    mode  \\\n",
       "10       MMT/IMPS/101315098813/Farm loan repay/ND A/S  DEBIT  OTHERS   \n",
       "55  CLG/LIFE INSURANCE CORPORATIO                 ...  DEBIT  OTHERS   \n",
       "58  BIL/ONL/000057164189/CRED CLUB/DP-6RaG1PayN5xl...  DEBIT  OTHERS   \n",
       "62  BIL/INFT/000062173555/Flat/                   ...  DEBIT  OTHERS   \n",
       "72  BIL/NEFT/000064221973/Home Down Payme/RAJENDRA...  DEBIT  OTHERS   \n",
       "\n",
       "    currentBalance    amount   reference  \n",
       "10      600087.738  108000.0  RF21015422  \n",
       "55      816562.032   44336.4  RF66015467  \n",
       "58      779548.032   35787.6  RF69015470  \n",
       "62      537366.432  240000.0  RF73015474  \n",
       "72      422213.472  120000.0  RF83015484  "
      ]
     },
     "execution_count": 79,
     "metadata": {},
     "output_type": "execute_result"
    }
   ],
   "source": [
    "# In roder to find outlier we'll take >upper limit\n",
    "df_debit = df_bedit[(df_bedit['amount']>ul)]\n",
    "df_debit.head()"
   ]
  },
  {
   "cell_type": "code",
   "execution_count": 80,
   "id": "cb70dcd8",
   "metadata": {},
   "outputs": [
    {
     "data": {
      "text/html": [
       "<div>\n",
       "<style scoped>\n",
       "    .dataframe tbody tr th:only-of-type {\n",
       "        vertical-align: middle;\n",
       "    }\n",
       "\n",
       "    .dataframe tbody tr th {\n",
       "        vertical-align: top;\n",
       "    }\n",
       "\n",
       "    .dataframe thead th {\n",
       "        text-align: right;\n",
       "    }\n",
       "</style>\n",
       "<table border=\"1\" class=\"dataframe\">\n",
       "  <thead>\n",
       "    <tr style=\"text-align: right;\">\n",
       "      <th></th>\n",
       "      <th>txnId</th>\n",
       "      <th>transactionTimestamp</th>\n",
       "      <th>valueDate</th>\n",
       "      <th>narration</th>\n",
       "      <th>type</th>\n",
       "      <th>mode</th>\n",
       "      <th>currentBalance</th>\n",
       "      <th>amount</th>\n",
       "      <th>reference</th>\n",
       "      <th>percentage</th>\n",
       "    </tr>\n",
       "  </thead>\n",
       "  <tbody>\n",
       "    <tr>\n",
       "      <th>105</th>\n",
       "      <td>M13510239</td>\n",
       "      <td>2021-03-15T00:00:00+05:30</td>\n",
       "      <td>2021-03-15</td>\n",
       "      <td>BIL/NEFT/000068523876/StampDutyDHCFee/AJINKYA ...</td>\n",
       "      <td>DEBIT</td>\n",
       "      <td>OTHERS</td>\n",
       "      <td>2902.584</td>\n",
       "      <td>313560.0</td>\n",
       "      <td>RF116015517</td>\n",
       "      <td>99.0</td>\n",
       "    </tr>\n",
       "    <tr>\n",
       "      <th>111</th>\n",
       "      <td>M13570245</td>\n",
       "      <td>2021-03-19T00:00:00+05:30</td>\n",
       "      <td>2021-03-19</td>\n",
       "      <td>BIL/INFT/000071260159/Return/                 ...</td>\n",
       "      <td>DEBIT</td>\n",
       "      <td>OTHERS</td>\n",
       "      <td>18843.126</td>\n",
       "      <td>120000.0</td>\n",
       "      <td>RF122015523</td>\n",
       "      <td>86.0</td>\n",
       "    </tr>\n",
       "    <tr>\n",
       "      <th>365</th>\n",
       "      <td>M16110499</td>\n",
       "      <td>2021-10-07T00:00:00+05:30</td>\n",
       "      <td>2021-10-07</td>\n",
       "      <td>BIL/INFT/000226758955/Share Transfer/         ...</td>\n",
       "      <td>DEBIT</td>\n",
       "      <td>OTHERS</td>\n",
       "      <td>14248.866</td>\n",
       "      <td>66150.0</td>\n",
       "      <td>RF376015777</td>\n",
       "      <td>82.0</td>\n",
       "    </tr>\n",
       "    <tr>\n",
       "      <th>391</th>\n",
       "      <td>M16370525</td>\n",
       "      <td>2021-11-05T00:00:00+05:30</td>\n",
       "      <td>2021-11-05</td>\n",
       "      <td>MMT/IMPS/130912752020/Gattu Fees/SVKM NMIMS/KK...</td>\n",
       "      <td>DEBIT</td>\n",
       "      <td>OTHERS</td>\n",
       "      <td>62597.790</td>\n",
       "      <td>204900.0</td>\n",
       "      <td>RF402015803</td>\n",
       "      <td>76.0</td>\n",
       "    </tr>\n",
       "  </tbody>\n",
       "</table>\n",
       "</div>"
      ],
      "text/plain": [
       "         txnId       transactionTimestamp   valueDate  \\\n",
       "105  M13510239  2021-03-15T00:00:00+05:30  2021-03-15   \n",
       "111  M13570245  2021-03-19T00:00:00+05:30  2021-03-19   \n",
       "365  M16110499  2021-10-07T00:00:00+05:30  2021-10-07   \n",
       "391  M16370525  2021-11-05T00:00:00+05:30  2021-11-05   \n",
       "\n",
       "                                             narration   type    mode  \\\n",
       "105  BIL/NEFT/000068523876/StampDutyDHCFee/AJINKYA ...  DEBIT  OTHERS   \n",
       "111  BIL/INFT/000071260159/Return/                 ...  DEBIT  OTHERS   \n",
       "365  BIL/INFT/000226758955/Share Transfer/         ...  DEBIT  OTHERS   \n",
       "391  MMT/IMPS/130912752020/Gattu Fees/SVKM NMIMS/KK...  DEBIT  OTHERS   \n",
       "\n",
       "     currentBalance    amount    reference  percentage  \n",
       "105        2902.584  313560.0  RF116015517        99.0  \n",
       "111       18843.126  120000.0  RF122015523        86.0  \n",
       "365       14248.866   66150.0  RF376015777        82.0  \n",
       "391       62597.790  204900.0  RF402015803        76.0  "
      ]
     },
     "execution_count": 80,
     "metadata": {},
     "output_type": "execute_result"
    }
   ],
   "source": [
    "# Here we'll find how many percentage amount is debited from account, if it is more than 75% then we'll consider it as a fraud transection\n",
    "df_debit['percentage'] = (df_debit[\"amount\"] * 100) // (df_debit[\"amount\"]+df_debit[\"currentBalance\"])\n",
    "df_fraud = df_debit[df_debit['percentage'].astype('int')>75]\n",
    "df_fraud"
   ]
  },
  {
   "cell_type": "markdown",
   "id": "b031a66f",
   "metadata": {},
   "source": [
    "#### we are getting 4 fraudulent transections"
   ]
  },
  {
   "cell_type": "markdown",
   "id": "eb8764e5",
   "metadata": {},
   "source": [
    "### 4) Now we are going to check different payment methods used and how many time they used while transection"
   ]
  },
  {
   "cell_type": "code",
   "execution_count": 93,
   "id": "a0cee5fe",
   "metadata": {},
   "outputs": [
    {
     "name": "stdout",
     "output_type": "stream",
     "text": [
      " UPI has total 308 transections \n",
      " OTHERS has total 108 transections \n",
      " FT has total 49 transections \n"
     ]
    }
   ],
   "source": [
    "transection_mode = df['mode'].value_counts()\n",
    "modes = transection_mode.keys()\n",
    "for mode in modes:\n",
    "    msg = f''' {mode} has total {transection_mode[mode]} transections '''\n",
    "    print(msg)"
   ]
  },
  {
   "cell_type": "code",
   "execution_count": 98,
   "id": "fd4f0036",
   "metadata": {},
   "outputs": [
    {
     "data": {
      "image/png": "[encoded data removed]",
      "text/plain": [
       "<Figure size 432x288 with 1 Axes>"
      ]
     },
     "metadata": {},
     "output_type": "display_data"
    }
   ],
   "source": [
    "# Lets see same in graphical manner\n",
    "y = transection_mode.values\n",
    "mylabels = transection_mode.keys()\n",
    "myexplode = [0.2, 0, 0]\n",
    "\n",
    "plt.pie(y, labels = mylabels, autopct='%1.1f%%', explode = myexplode, shadow = True, textprops={'color':\"w\"})\n",
    "plt.legend(title = \"Mode of transection\")\n",
    "plt.show() \n",
    "plt.show() "
   ]
  },
  {
   "cell_type": "markdown",
   "id": "177ec704",
   "metadata": {},
   "source": [
    "#### Here as we can see that UPI has max uses while FT has min uses"
   ]
  },
  {
   "cell_type": "markdown",
   "id": "f5cd4574",
   "metadata": {},
   "source": [
    "### 5) Now we are grouping the similar transactions id based on similar narration\n",
    "#### Assumption\n",
    "- Lets assume threshold value 80\n",
    "- if similarity_count > 80 then we'll assume that narration as a smiliar otherwise different"
   ]
  },
  {
   "cell_type": "code",
   "execution_count": 234,
   "id": "57cda8b9",
   "metadata": {},
   "outputs": [],
   "source": [
    "index = list()\n",
    "narration = list()\n",
    "similar_narration = list()\n",
    "amount = list()\n",
    "txnId = list()\n",
    "for i in df.index:\n",
    "    for j in df.index:\n",
    "        if fuzz.ratio(df['narration'][i],df['narration'][j]) > 80: \n",
    "            index.append(i)\n",
    "            narration.append(df['narration'][i])\n",
    "            similar_narration.append(df['narration'][j])\n",
    "            amount.append(df['amount'][j])\n",
    "            txnId.append(df['txnId'][j])"
   ]
  },
  {
   "cell_type": "code",
   "execution_count": 235,
   "id": "d04feece",
   "metadata": {},
   "outputs": [],
   "source": [
    "new_df = pd.DataFrame({'index':index, 'txnId':txnId, 'narration':narration, 'similar_narration':similar_narration, 'amount':amount})"
   ]
  },
  {
   "cell_type": "code",
   "execution_count": 236,
   "id": "6b2e77d4",
   "metadata": {},
   "outputs": [
    {
     "data": {
      "text/html": [
       "<div>\n",
       "<style scoped>\n",
       "    .dataframe tbody tr th:only-of-type {\n",
       "        vertical-align: middle;\n",
       "    }\n",
       "\n",
       "    .dataframe tbody tr th {\n",
       "        vertical-align: top;\n",
       "    }\n",
       "\n",
       "    .dataframe thead th {\n",
       "        text-align: right;\n",
       "    }\n",
       "</style>\n",
       "<table border=\"1\" class=\"dataframe\">\n",
       "  <thead>\n",
       "    <tr style=\"text-align: right;\">\n",
       "      <th></th>\n",
       "      <th>index</th>\n",
       "      <th>txnId</th>\n",
       "      <th>narration</th>\n",
       "      <th>similar_narration</th>\n",
       "      <th>amount</th>\n",
       "    </tr>\n",
       "  </thead>\n",
       "  <tbody>\n",
       "    <tr>\n",
       "      <th>0</th>\n",
       "      <td>0</td>\n",
       "      <td>M12460134</td>\n",
       "      <td>UPI/100304559280/Oid100002510080/paytm-irctcap...</td>\n",
       "      <td>UPI/100304559280/Oid100002510080/paytm-irctcap...</td>\n",
       "      <td>262.080</td>\n",
       "    </tr>\n",
       "    <tr>\n",
       "      <th>1</th>\n",
       "      <td>0</td>\n",
       "      <td>M12650153</td>\n",
       "      <td>UPI/100304559280/Oid100002510080/paytm-irctcap...</td>\n",
       "      <td>UPI/102567354483/Oid100002544108/paytm-irctcap...</td>\n",
       "      <td>698.160</td>\n",
       "    </tr>\n",
       "    <tr>\n",
       "      <th>2</th>\n",
       "      <td>0</td>\n",
       "      <td>M12730161</td>\n",
       "      <td>UPI/100304559280/Oid100002510080/paytm-irctcap...</td>\n",
       "      <td>UPI/103725588679/Oid100002563181/paytm-irctcap...</td>\n",
       "      <td>265.080</td>\n",
       "    </tr>\n",
       "    <tr>\n",
       "      <th>3</th>\n",
       "      <td>0</td>\n",
       "      <td>M12740162</td>\n",
       "      <td>UPI/100304559280/Oid100002510080/paytm-irctcap...</td>\n",
       "      <td>UPI/103725759682/Oid100002563181/paytm-irctcap...</td>\n",
       "      <td>61.080</td>\n",
       "    </tr>\n",
       "    <tr>\n",
       "      <th>4</th>\n",
       "      <td>0</td>\n",
       "      <td>M12860174</td>\n",
       "      <td>UPI/100304559280/Oid100002510080/paytm-irctcap...</td>\n",
       "      <td>UPI/104652586986/Oid100002581676/paytm-irctcap...</td>\n",
       "      <td>94.080</td>\n",
       "    </tr>\n",
       "    <tr>\n",
       "      <th>...</th>\n",
       "      <td>...</td>\n",
       "      <td>...</td>\n",
       "      <td>...</td>\n",
       "      <td>...</td>\n",
       "      <td>...</td>\n",
       "    </tr>\n",
       "    <tr>\n",
       "      <th>1170</th>\n",
       "      <td>463</td>\n",
       "      <td>M16320520</td>\n",
       "      <td>UPI/200212185648/payment on CRED/credclub@icic...</td>\n",
       "      <td>UPI/130566973258/payment on CRED/credclub@icic...</td>\n",
       "      <td>792.996</td>\n",
       "    </tr>\n",
       "    <tr>\n",
       "      <th>1171</th>\n",
       "      <td>463</td>\n",
       "      <td>M16720560</td>\n",
       "      <td>UPI/200212185648/payment on CRED/credclub@icic...</td>\n",
       "      <td>UPI/133509943006/payment on CRED/credclub@icic...</td>\n",
       "      <td>26461.800</td>\n",
       "    </tr>\n",
       "    <tr>\n",
       "      <th>1172</th>\n",
       "      <td>463</td>\n",
       "      <td>M16730561</td>\n",
       "      <td>UPI/200212185648/payment on CRED/credclub@icic...</td>\n",
       "      <td>UPI/133563620994/payment on CRED/credclub@icic...</td>\n",
       "      <td>6721.104</td>\n",
       "    </tr>\n",
       "    <tr>\n",
       "      <th>1173</th>\n",
       "      <td>463</td>\n",
       "      <td>M17090597</td>\n",
       "      <td>UPI/200212185648/payment on CRED/credclub@icic...</td>\n",
       "      <td>UPI/200212185648/payment on CRED/credclub@icic...</td>\n",
       "      <td>34125.396</td>\n",
       "    </tr>\n",
       "    <tr>\n",
       "      <th>1174</th>\n",
       "      <td>464</td>\n",
       "      <td>M17100598</td>\n",
       "      <td>MMT/IMPS/200310959573/Edu Loan Repaym/NAVRANG ...</td>\n",
       "      <td>MMT/IMPS/200310959573/Edu Loan Repaym/NAVRANG ...</td>\n",
       "      <td>12000.000</td>\n",
       "    </tr>\n",
       "  </tbody>\n",
       "</table>\n",
       "<p>1175 rows × 5 columns</p>\n",
       "</div>"
      ],
      "text/plain": [
       "      index      txnId                                          narration  \\\n",
       "0         0  M12460134  UPI/100304559280/Oid100002510080/paytm-irctcap...   \n",
       "1         0  M12650153  UPI/100304559280/Oid100002510080/paytm-irctcap...   \n",
       "2         0  M12730161  UPI/100304559280/Oid100002510080/paytm-irctcap...   \n",
       "3         0  M12740162  UPI/100304559280/Oid100002510080/paytm-irctcap...   \n",
       "4         0  M12860174  UPI/100304559280/Oid100002510080/paytm-irctcap...   \n",
       "...     ...        ...                                                ...   \n",
       "1170    463  M16320520  UPI/200212185648/payment on CRED/credclub@icic...   \n",
       "1171    463  M16720560  UPI/200212185648/payment on CRED/credclub@icic...   \n",
       "1172    463  M16730561  UPI/200212185648/payment on CRED/credclub@icic...   \n",
       "1173    463  M17090597  UPI/200212185648/payment on CRED/credclub@icic...   \n",
       "1174    464  M17100598  MMT/IMPS/200310959573/Edu Loan Repaym/NAVRANG ...   \n",
       "\n",
       "                                      similar_narration     amount  \n",
       "0     UPI/100304559280/Oid100002510080/paytm-irctcap...    262.080  \n",
       "1     UPI/102567354483/Oid100002544108/paytm-irctcap...    698.160  \n",
       "2     UPI/103725588679/Oid100002563181/paytm-irctcap...    265.080  \n",
       "3     UPI/103725759682/Oid100002563181/paytm-irctcap...     61.080  \n",
       "4     UPI/104652586986/Oid100002581676/paytm-irctcap...     94.080  \n",
       "...                                                 ...        ...  \n",
       "1170  UPI/130566973258/payment on CRED/credclub@icic...    792.996  \n",
       "1171  UPI/133509943006/payment on CRED/credclub@icic...  26461.800  \n",
       "1172  UPI/133563620994/payment on CRED/credclub@icic...   6721.104  \n",
       "1173  UPI/200212185648/payment on CRED/credclub@icic...  34125.396  \n",
       "1174  MMT/IMPS/200310959573/Edu Loan Repaym/NAVRANG ...  12000.000  \n",
       "\n",
       "[1175 rows x 5 columns]"
      ]
     },
     "execution_count": 236,
     "metadata": {},
     "output_type": "execute_result"
    }
   ],
   "source": [
    "new_df"
   ]
  },
  {
   "cell_type": "code",
   "execution_count": 248,
   "id": "4fc9fcb9",
   "metadata": {},
   "outputs": [
    {
     "data": {
      "text/html": [
       "<div>\n",
       "<style scoped>\n",
       "    .dataframe tbody tr th:only-of-type {\n",
       "        vertical-align: middle;\n",
       "    }\n",
       "\n",
       "    .dataframe tbody tr th {\n",
       "        vertical-align: top;\n",
       "    }\n",
       "\n",
       "    .dataframe thead th {\n",
       "        text-align: right;\n",
       "    }\n",
       "</style>\n",
       "<table border=\"1\" class=\"dataframe\">\n",
       "  <thead>\n",
       "    <tr style=\"text-align: right;\">\n",
       "      <th></th>\n",
       "      <th>amount</th>\n",
       "      <th>txnId</th>\n",
       "    </tr>\n",
       "    <tr>\n",
       "      <th>index</th>\n",
       "      <th></th>\n",
       "      <th></th>\n",
       "    </tr>\n",
       "  </thead>\n",
       "  <tbody>\n",
       "    <tr>\n",
       "      <th>0</th>\n",
       "      <td>1380.480</td>\n",
       "      <td>M12460134, M12650153, M12730161, M12740162, M1...</td>\n",
       "    </tr>\n",
       "    <tr>\n",
       "      <th>1</th>\n",
       "      <td>826.080</td>\n",
       "      <td>M12470135, M12880176</td>\n",
       "    </tr>\n",
       "    <tr>\n",
       "      <th>2</th>\n",
       "      <td>300.000</td>\n",
       "      <td>M12480136</td>\n",
       "    </tr>\n",
       "    <tr>\n",
       "      <th>3</th>\n",
       "      <td>3236.934</td>\n",
       "      <td>M12490137, M12860174, M13130201, M13140202, M1...</td>\n",
       "    </tr>\n",
       "    <tr>\n",
       "      <th>4</th>\n",
       "      <td>1200.000</td>\n",
       "      <td>M12500138</td>\n",
       "    </tr>\n",
       "    <tr>\n",
       "      <th>...</th>\n",
       "      <td>...</td>\n",
       "      <td>...</td>\n",
       "    </tr>\n",
       "    <tr>\n",
       "      <th>460</th>\n",
       "      <td>30000.000</td>\n",
       "      <td>M17060594</td>\n",
       "    </tr>\n",
       "    <tr>\n",
       "      <th>461</th>\n",
       "      <td>180000.000</td>\n",
       "      <td>M14000288, M17070595</td>\n",
       "    </tr>\n",
       "    <tr>\n",
       "      <th>462</th>\n",
       "      <td>11166.000</td>\n",
       "      <td>M17080596</td>\n",
       "    </tr>\n",
       "    <tr>\n",
       "      <th>463</th>\n",
       "      <td>81591.144</td>\n",
       "      <td>M14660354, M15200408, M15850473, M15910479, M1...</td>\n",
       "    </tr>\n",
       "    <tr>\n",
       "      <th>464</th>\n",
       "      <td>12000.000</td>\n",
       "      <td>M17100598</td>\n",
       "    </tr>\n",
       "  </tbody>\n",
       "</table>\n",
       "<p>465 rows × 2 columns</p>\n",
       "</div>"
      ],
      "text/plain": [
       "           amount                                              txnId\n",
       "index                                                               \n",
       "0        1380.480  M12460134, M12650153, M12730161, M12740162, M1...\n",
       "1         826.080                               M12470135, M12880176\n",
       "2         300.000                                          M12480136\n",
       "3        3236.934  M12490137, M12860174, M13130201, M13140202, M1...\n",
       "4        1200.000                                          M12500138\n",
       "...           ...                                                ...\n",
       "460     30000.000                                          M17060594\n",
       "461    180000.000                               M14000288, M17070595\n",
       "462     11166.000                                          M17080596\n",
       "463     81591.144  M14660354, M15200408, M15850473, M15910479, M1...\n",
       "464     12000.000                                          M17100598\n",
       "\n",
       "[465 rows x 2 columns]"
      ]
     },
     "execution_count": 248,
     "metadata": {},
     "output_type": "execute_result"
    }
   ],
   "source": [
    "new_df.groupby('index').agg({'amount':'sum','txnId':', '.join})"
   ]
  },
  {
   "cell_type": "markdown",
   "id": "f4167128",
   "metadata": {},
   "source": [
    "#### Based on fuzz logic we got similar narration and so similar transections id"
   ]
  },
  {
   "cell_type": "markdown",
   "id": "9e50f196",
   "metadata": {},
   "source": [
    "### 6) Highest currentBalance and lowest currentBalance"
   ]
  },
  {
   "cell_type": "code",
   "execution_count": 264,
   "id": "5680e837",
   "metadata": {},
   "outputs": [
    {
     "name": "stdout",
     "output_type": "stream",
     "text": [
      " Max available amount is 1242372.78 \n"
     ]
    }
   ],
   "source": [
    "msg = f''' Max available amount is {df['currentBalance'].max()} '''\n",
    "print(msg)"
   ]
  },
  {
   "cell_type": "code",
   "execution_count": 265,
   "id": "9ff42b99",
   "metadata": {},
   "outputs": [
    {
     "name": "stdout",
     "output_type": "stream",
     "text": [
      " Max available amount is 2902.584 \n"
     ]
    }
   ],
   "source": [
    "msg = f''' Max available amount is {df['currentBalance'].min()} '''\n",
    "print(msg)"
   ]
  },
  {
   "cell_type": "markdown",
   "id": "6a7df5db",
   "metadata": {},
   "source": [
    "### 7) Highest and lowest amount debited"
   ]
  },
  {
   "cell_type": "code",
   "execution_count": 266,
   "id": "b72f0391",
   "metadata": {},
   "outputs": [
    {
     "name": "stdout",
     "output_type": "stream",
     "text": [
      " Max amount debited is 313560.0 \n"
     ]
    }
   ],
   "source": [
    "msg = f''' Max amount debited is {df[df['type']=='DEBIT']['amount'].max()} '''\n",
    "print(msg)"
   ]
  },
  {
   "cell_type": "code",
   "execution_count": 267,
   "id": "6778f08e",
   "metadata": {},
   "outputs": [
    {
     "name": "stdout",
     "output_type": "stream",
     "text": [
      " Min amount debited is 0.6 \n"
     ]
    }
   ],
   "source": [
    "msg = f''' Min amount debited is {df[df['type']=='DEBIT']['amount'].min()} '''\n",
    "print(msg)"
   ]
  },
  {
   "cell_type": "markdown",
   "id": "682c746c",
   "metadata": {},
   "source": [
    "### 8) Highest and lowest amount credited"
   ]
  },
  {
   "cell_type": "code",
   "execution_count": 262,
   "id": "858e52c0",
   "metadata": {},
   "outputs": [
    {
     "name": "stdout",
     "output_type": "stream",
     "text": [
      " Max amount credited is 990000.0 \n"
     ]
    }
   ],
   "source": [
    "msg = f''' Max amount credited is {df[df['type']=='CREDIT']['amount'].max()} '''\n",
    "print(msg)"
   ]
  },
  {
   "cell_type": "code",
   "execution_count": 263,
   "id": "2122602a",
   "metadata": {},
   "outputs": [
    {
     "name": "stdout",
     "output_type": "stream",
     "text": [
      " Min amount credited is 0.6 \n"
     ]
    }
   ],
   "source": [
    "msg = f''' Min amount credited is {df[df['type']=='CREDIT']['amount'].min()} '''\n",
    "print(msg)"
   ]
  },
  {
   "cell_type": "code",
   "execution_count": null,
   "id": "11c7a4b9",
   "metadata": {},
   "outputs": [],
   "source": []
  }
 ],
 "metadata": {
  "kernelspec": {
   "display_name": "Python 3",
   "language": "python",
   "name": "python3"
  },
  "language_info": {
   "codemirror_mode": {
    "name": "ipython",
    "version": 3
   },
   "file_extension": ".py",
   "mimetype": "text/x-python",
   "name": "python",
   "nbconvert_exporter": "python",
   "pygments_lexer": "ipython3",
   "version": "3.8.8"
  }
 },
 "nbformat": 4,
 "nbformat_minor": 5
}
